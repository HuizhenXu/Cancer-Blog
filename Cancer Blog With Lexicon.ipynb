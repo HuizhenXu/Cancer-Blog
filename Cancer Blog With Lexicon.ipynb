{
 "cells": [
  {
   "cell_type": "code",
   "execution_count": 1,
   "metadata": {
    "collapsed": false
   },
   "outputs": [],
   "source": [
    "import numpy as np\n",
    "import pandas as pd\n",
    "import nltk\n",
    "import re\n",
    "import os\n",
    "import glob\n",
    "import string\n",
    "\n",
    "from sklearn.feature_extraction.text import TfidfVectorizer\n",
    "from sklearn.cluster import KMeans\n",
    "from sklearn.metrics import adjusted_rand_score\n",
    "import random"
   ]
  },
  {
   "cell_type": "code",
   "execution_count": 2,
   "metadata": {
    "collapsed": true
   },
   "outputs": [],
   "source": [
    "files = glob.glob('./individual blog data/*.txt')\n",
    "file_list=[]\n",
    "for names in files:\n",
    "    f = open(names, 'rU')\n",
    "    raw = f.read()\n",
    "    file_list += [raw]"
   ]
  },
  {
   "cell_type": "markdown",
   "metadata": {},
   "source": [
    "# Magical Lexicon"
   ]
  },
  {
   "cell_type": "code",
   "execution_count": 4,
   "metadata": {
    "collapsed": true
   },
   "outputs": [],
   "source": [
    "lexicon=['side','effect','breast','studi','chemotherapi','hormon','lymph','love','famili','friend',\n",
    "        'treatment','trial','clinic','surgeri', 'therapi', 'research', 'eat','meat','diet','food','drink',\n",
    "        'oil','alcohol','veget','tumor','immun','system','mice','kill','stem','cell','hair','dye',\n",
    "        'blond','brown','bald','wig','shave','color','ovarian','bladder','detect','oral','pink','young','survivor',\n",
    "        'mammogram','skin','sun','melanoma','sunscreen','tan','mole','vitamin','exposur','dermatologist',\n",
    "        'children','lung','smoke','prevent','vaccin','fruit','salad','pepper','fresh','green','bodi','consumpt',\n",
    "        'fat','red','sugar','fish','target','cervic', 'hpv','sexual','women','viru','mom','dad','life','fear',\n",
    "        'prostat','men','surviv','attitud', 'radiat','exercis','tamoxifen','aromatas','pill','treat','water','tea','green',\n",
    "        'juic','tomato','tablespoon','oliv','blood','head','hat','curli','detect','symptom','earli','diseas','colorect','risk',\n",
    "        'survivor','gardasil','infect','girl','pap','protect','human','mandatori','precancer','lump','ultrasound','calori',\n",
    "        'cook','live','awar','urin','kid','psa','gay','protein','jude','st','hospit','donat','childhood','organ','lifestyl',\n",
    "        'smoke','smoker','drug','menopaus','transplant','marrow','bone','race','leukemia','zometa','vegetarian','node','tan',\n",
    "        'ray','sunburn','damag','shade','uvb','herceptin','gallbladd','brain','pain','spf','biopsi','testicular','heal','level',\n",
    "        'mouth','gum','death','tobacco','tongu','tooth','laryng','dentist','vessel','angiogenesi','glioblastoma']"
   ]
  },
  {
   "cell_type": "code",
   "execution_count": 5,
   "metadata": {
    "collapsed": false
   },
   "outputs": [],
   "source": [
    "from nltk.stem.porter import PorterStemmer\n",
    "\n",
    "def text_process(s):\n",
    "    s = s.translate(None, string.digits)\n",
    "    s = s.lower()\n",
    "    s = s.translate(None, string.punctuation)\n",
    "    \n",
    "    token_list = nltk.word_tokenize(s)\n",
    "    STEMMER = PorterStemmer()\n",
    "    stemming = [STEMMER.stem(tok.decode('utf-8',errors='ignore')) for tok in token_list]\n",
    "    content = [w for w in stemming if w in lexicon]\n",
    "    return ' '.join(content)"
   ]
  },
  {
   "cell_type": "code",
   "execution_count": 6,
   "metadata": {
    "collapsed": false
   },
   "outputs": [],
   "source": [
    "file_cleaned =[]\n",
    "for i in file_list:\n",
    "    k = text_process(i)\n",
    "    file_cleaned += [k]"
   ]
  },
  {
   "cell_type": "code",
   "execution_count": null,
   "metadata": {
    "collapsed": false
   },
   "outputs": [],
   "source": [
    "# using tfidf\n",
    "tfidf_vectorizer = TfidfVectorizer(use_idf=True, ngram_range=(1,1))\n",
    "tfidf = tfidf_vectorizer.fit_transform(file_cleaned)"
   ]
  },
  {
   "cell_type": "code",
   "execution_count": 9,
   "metadata": {
    "collapsed": false
   },
   "outputs": [
    {
     "data": {
      "text/plain": [
       "(1594, 169)"
      ]
     },
     "execution_count": 9,
     "metadata": {},
     "output_type": "execute_result"
    }
   ],
   "source": [
    "tfidf.shape"
   ]
  },
  {
   "cell_type": "markdown",
   "metadata": {},
   "source": [
    "# Try Different Clusters\n",
    "* 10 clusters\n",
    "* 11 clusters\n",
    "* 12 clusters"
   ]
  },
  {
   "cell_type": "code",
   "execution_count": 32,
   "metadata": {
    "collapsed": false
   },
   "outputs": [
    {
     "name": "stdout",
     "output_type": "stream",
     "text": [
      "Wall time: 1.18 s\n",
      "Clusert 0 eat; diet; food; exercis; prostat; vitamin; fruit; bodi; drink; risk; prevent; water; studi; meat; veget; fat; red; sugar; oil; juic; calori; lifestyl; cook; breast; research; fresh; consumpt; men; smoke; tablespoon;\n",
      "Clusert 1 vaccin; cervic; hpv; pap; women; viru; gardasil; girl; sexual; infect; immun; human; protect; prevent; precancer; tumor; drug; effect; cell; studi; mandatori; diseas; trial; oral; young; research; system; clinic; men; friend;\n",
      "Clusert 2 treatment; chemotherapi; surgeri; surviv; radiat; hospit; treat; tumor; clinic; therapi; research; studi; node; trial; breast; diseas; lymph; effect; brain; risk; side; drug; cell; life; system; live; blood; bodi; survivor; women;\n",
      "Clusert 3 cell; research; studi; lung; diseas; smoke; tumor; risk; blood; bodi; death; effect; treatment; system; level; men; detect; stem; bone; organ; breast; transplant; earli; ovarian; prevent; prostat; human; live; women; colorect;\n",
      "Clusert 4 life; live; famili; love; friend; children; surviv; breast; survivor; kid; mom; death; young; treatment; diseas; heal; hospit; hair; fear; pain; dad; head; lung; surgeri; brain; chemotherapi; bodi; tumor; donat; organ;\n",
      "Clusert 5 drug; cell; treatment; trial; tumor; effect; studi; research; chemotherapi; clinic; side; breast; therapi; target; treat; herceptin; surviv; diseas; human; blood; life; protein; risk; women; prostat; bodi; lung; pain; pill; brain;\n",
      "Clusert 6 pink; breast; donat; awar; color; love; women; survivor; surviv; young; research; friend; diseas; live; race; life; organ; mom; children; famili; hair; men; bald; girl; side; fresh; mammogram; food; hat; heal;\n",
      "Clusert 7 women; breast; risk; studi; young; mammogram; research; hormon; treatment; diseas; tamoxifen; earli; therapi; chemotherapi; detect; drug; survivor; live; effect; surviv; menopaus; organ; tumor; radiat; treat; life; famili; awar; fear; prevent;\n",
      "Clusert 8 skin; sun; melanoma; sunscreen; tan; mole; dermatologist; protect; ray; risk; awar; damag; exposur; shade; prevent; radiat; life; uvb; surgeri; chemotherapi; bodi; young; pain; sunburn; water; color; spf; research; treatment; children;\n",
      "Clusert 9 breast; women; survivor; young; friend; awar; live; love; lump; treatment; famili; mammogram; life; diseas; research; surviv; chemotherapi; donat; organ; radiat; surgeri; biopsi; risk; ultrasound; hair; mom; men; side; detect; tumor;\n"
     ]
    }
   ],
   "source": [
    "km = KMeans(n_clusters=10)\n",
    "km.fit(tfidf)\n",
    "order_centroids= km.cluster_centers_.argsort()[:, ::-1]\n",
    "terms = tfidf_vectorizer.get_feature_names()\n",
    "for i in range(10):\n",
    "    print 'Clusert %d' %i,\n",
    "    for ind in order_centroids[i,:30]:\n",
    "        print '%s;'%terms[ind],\n",
    "    print"
   ]
  },
  {
   "cell_type": "code",
   "execution_count": 25,
   "metadata": {
    "collapsed": false
   },
   "outputs": [
    {
     "data": {
      "text/plain": [
       "2    354\n",
       "3    346\n",
       "0    219\n",
       "5    191\n",
       "8    140\n",
       "4    109\n",
       "9     92\n",
       "1     60\n",
       "7     49\n",
       "6     34\n",
       "Name: cluster, dtype: int64"
      ]
     },
     "execution_count": 25,
     "metadata": {},
     "output_type": "execute_result"
    }
   ],
   "source": [
    "# count each cluster\n",
    "clusters = km.labels_.tolist()\n",
    "blogs = {'blog': file_cleaned, 'cluster': clusters}\n",
    "frame = pd.DataFrame(blogs)\n",
    "frame['cluster'].value_counts()"
   ]
  },
  {
   "cell_type": "code",
   "execution_count": 57,
   "metadata": {
    "collapsed": false
   },
   "outputs": [
    {
     "data": {
      "text/html": [
       "<div>\n",
       "<table border=\"1\" class=\"dataframe\">\n",
       "  <thead>\n",
       "    <tr style=\"text-align: right;\">\n",
       "      <th></th>\n",
       "      <th>blog</th>\n",
       "      <th>cluster</th>\n",
       "      <th>cluster_1</th>\n",
       "      <th>cluster_2</th>\n",
       "      <th>cluster_3</th>\n",
       "      <th>cluster_4</th>\n",
       "      <th>cluster_5</th>\n",
       "    </tr>\n",
       "  </thead>\n",
       "  <tbody>\n",
       "    <tr>\n",
       "      <th>0</th>\n",
       "      <td>fear lifestyl studi protect research live life...</td>\n",
       "      <td>3</td>\n",
       "      <td>4</td>\n",
       "      <td>0</td>\n",
       "      <td>8</td>\n",
       "      <td>0</td>\n",
       "      <td>9</td>\n",
       "    </tr>\n",
       "    <tr>\n",
       "      <th>1</th>\n",
       "      <td>bodi prostat breast death prevent lifestyl liv...</td>\n",
       "      <td>3</td>\n",
       "      <td>4</td>\n",
       "      <td>0</td>\n",
       "      <td>8</td>\n",
       "      <td>0</td>\n",
       "      <td>10</td>\n",
       "    </tr>\n",
       "    <tr>\n",
       "      <th>2</th>\n",
       "      <td>treatment awar children women breast sexual ov...</td>\n",
       "      <td>2</td>\n",
       "      <td>2</td>\n",
       "      <td>5</td>\n",
       "      <td>0</td>\n",
       "      <td>4</td>\n",
       "      <td>0</td>\n",
       "    </tr>\n",
       "    <tr>\n",
       "      <th>3</th>\n",
       "      <td>hospit life children love surviv hospit life c...</td>\n",
       "      <td>0</td>\n",
       "      <td>6</td>\n",
       "      <td>5</td>\n",
       "      <td>0</td>\n",
       "      <td>4</td>\n",
       "      <td>0</td>\n",
       "    </tr>\n",
       "    <tr>\n",
       "      <th>4</th>\n",
       "      <td>side effect side effect side effect life side ...</td>\n",
       "      <td>4</td>\n",
       "      <td>0</td>\n",
       "      <td>4</td>\n",
       "      <td>6</td>\n",
       "      <td>5</td>\n",
       "      <td>1</td>\n",
       "    </tr>\n",
       "  </tbody>\n",
       "</table>\n",
       "</div>"
      ],
      "text/plain": [
       "                                                blog  cluster  cluster_1  \\\n",
       "0  fear lifestyl studi protect research live life...        3          4   \n",
       "1  bodi prostat breast death prevent lifestyl liv...        3          4   \n",
       "2  treatment awar children women breast sexual ov...        2          2   \n",
       "3  hospit life children love surviv hospit life c...        0          6   \n",
       "4  side effect side effect side effect life side ...        4          0   \n",
       "\n",
       "   cluster_2  cluster_3  cluster_4  cluster_5  \n",
       "0          0          8          0          9  \n",
       "1          0          8          0         10  \n",
       "2          5          0          4          0  \n",
       "3          5          0          4          0  \n",
       "4          4          6          5          1  "
      ]
     },
     "execution_count": 57,
     "metadata": {},
     "output_type": "execute_result"
    },
    {
     "name": "stdout",
     "output_type": "stream",
     "text": [
      "\n"
     ]
    }
   ],
   "source": [
    "frame.head()"
   ]
  },
  {
   "cell_type": "markdown",
   "metadata": {},
   "source": [
    "# Test with Classification"
   ]
  },
  {
   "cell_type": "code",
   "execution_count": 43,
   "metadata": {
    "collapsed": true
   },
   "outputs": [],
   "source": [
    "import sklearn\n",
    "from sklearn.ensemble import RandomForestClassifier\n",
    "import random"
   ]
  },
  {
   "cell_type": "code",
   "execution_count": 40,
   "metadata": {
    "collapsed": true
   },
   "outputs": [],
   "source": [
    "test_ind = random.sample(range(0,1594), 478)\n",
    "train_ind = [i for i in range(0,1594) if i not in test_ind]\n",
    "train = tfidf[train_ind,:]\n",
    "test = tfidf[test_ind,:]"
   ]
  },
  {
   "cell_type": "code",
   "execution_count": 45,
   "metadata": {
    "collapsed": false
   },
   "outputs": [
    {
     "data": {
      "text/plain": [
       "array([[49,  0,  8,  2,  0,  2,  0,  0,  0,  0],\n",
       "       [ 2, 15,  0,  2,  0,  0,  0,  0,  1,  0],\n",
       "       [ 9,  1, 90,  7,  0,  2,  0,  0,  0,  0],\n",
       "       [ 3,  1, 14, 81,  0,  2,  0,  0,  1,  0],\n",
       "       [ 1,  0,  4,  0, 36,  0,  0,  0,  0,  2],\n",
       "       [ 0,  0,  1,  1,  0, 43,  0,  0,  8,  1],\n",
       "       [ 0,  0,  0,  0,  0,  0,  8,  0,  1,  0],\n",
       "       [ 1,  0,  0,  0,  0,  0,  0,  7,  0,  0],\n",
       "       [ 0,  0,  4,  0,  3,  8,  0,  0, 30,  0],\n",
       "       [ 1,  0,  5,  0,  2,  0,  0,  0,  0, 19]])"
      ]
     },
     "execution_count": 45,
     "metadata": {},
     "output_type": "execute_result"
    }
   ],
   "source": [
    "train_y = frame['cluster'].iloc[train_ind]\n",
    "test_y = frame['cluster'].iloc[test_ind]\n",
    "tree = RandomForestClassifier(class_weight='auto')\n",
    "model = tree.fit(train, train_y)\n",
    "pred = model.predict(test)\n",
    "sklearn.metrics.confusion_matrix(test_y, pred)"
   ]
  },
  {
   "cell_type": "code",
   "execution_count": 61,
   "metadata": {
    "collapsed": true
   },
   "outputs": [],
   "source": [
    "frame.to_csv('./frame_with_label.csv', index=False)"
   ]
  }
 ],
 "metadata": {
  "kernelspec": {
   "display_name": "Python 2",
   "language": "python",
   "name": "python2"
  },
  "language_info": {
   "codemirror_mode": {
    "name": "ipython",
    "version": 2
   },
   "file_extension": ".py",
   "mimetype": "text/x-python",
   "name": "python",
   "nbconvert_exporter": "python",
   "pygments_lexer": "ipython2",
   "version": "2.7.11"
  }
 },
 "nbformat": 4,
 "nbformat_minor": 0
}
